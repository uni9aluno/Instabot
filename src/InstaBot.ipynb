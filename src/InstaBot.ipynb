{
  "cells": [
    {
      "cell_type": "code",
      "execution_count": null,
      "metadata": {
        "id": "Jx1DsHVNxGA_",
        "outputId": "fde6bdb2-f629-43b5-f51d-4c66c01e6c30"
      },
      "outputs": [
        {
          "name": "stdout",
          "output_type": "stream",
          "text": [
            "Note: you may need to restart the kernel to use updated packages.\n"
          ]
        }
      ],
      "source": [
        "%pip install -q -U google-generativeai"
      ]
    },
    {
      "cell_type": "code",
      "execution_count": null,
      "metadata": {
        "id": "sR9rhFeGxLFp"
      },
      "outputs": [],
      "source": [
        "import google.generativeai as genai\n",
        "api_key = \"API_KEY",
        "genai.configure(api_key=api_key)"
      ]
    },
    {
      "cell_type": "code",
      "execution_count": null,
      "metadata": {
        "colab": {
          "base_uri": "https://localhost:8080/",
          "height": 139
        },
        "id": "3ZKaEpPkxTsT",
        "outputId": "772cbed4-ad82-4002-a1fb-a897b3724aa2"
      },
      "outputs": [
        {
          "name": "stdout",
          "output_type": "stream",
          "text": [
            "models/gemini-1.0-pro\n",
            "models/gemini-1.0-pro-001\n",
            "models/gemini-1.0-pro-latest\n",
            "models/gemini-1.0-pro-vision-latest\n",
            "models/gemini-1.5-pro-latest\n",
            "models/gemini-pro\n",
            "models/gemini-pro-vision\n"
          ]
        }
      ],
      "source": [
        "for m in genai.list_models():\n",
        "    if 'generateContent' in m.supported_generation_methods:\n",
        "        print(m.name)"
      ]
    },
    {
      "cell_type": "code",
      "execution_count": null,
      "metadata": {
        "id": "4wEEwSrVxV9R"
      },
      "outputs": [],
      "source": [
        "generation_config = {\n",
        "    \"candidate_count\": 1,  # Número de sugestões a serem geradas\n",
        "    \"temperature\": 0.5,   # Nível de criatividade (0 = mais conservador, 1 = mais criativo)\n",
        "}\n",
        "\n",
        "safety_settings = {\n",
        "    'HATE': 'BLOCK_NONE',\n",
        "    'HARASSMENT': 'BLOCK_NONE',\n",
        "    'SEXUAL': 'BLOCK_NONE',\n",
        "    'DANGEROUS': 'BLOCK_NONE'\n",
        "}\n",
        "\n",
        "model = genai.GenerativeModel(\n",
        "    model_name='gemini-1.0-pro',\n",
        "    generation_config=generation_config,\n",
        "    safety_settings=safety_settings\n",
        ")"
      ]
    },
    {
      "cell_type": "code",
      "execution_count": null,
      "metadata": {
        "id": "AwywFIEixj9R"
      },
      "outputs": [],
      "source": [
        "def obter_informacoes_usuario():\n",
        "    criativo = input(\"Qual criativo (FOTO) você vai usar na sua campanha? \")\n",
        "    intencao = input(\"Qual a intenção dessa campanha (CONVERSÃO ou RELACIONAMENTO)? \")\n",
        "    tom = input(\"Qual o tom da copy você deseja (Divertido, Atencioso, Sério, Profissional)? \")\n",
        "    nicho = input(\"Qual o nicho do seu produto? \")\n",
        "    return criativo, intencao, tom, nicho"
      ]
    },
    {
      "cell_type": "code",
      "execution_count": null,
      "metadata": {
        "id": "lquD4_Q6xqan"
      },
      "outputs": [],
      "source": [
        "def gerar_copy(criativo, intencao, tom, nicho):\n",
        "    prompt = f\"Crie uma legenda criativa para um post no Instagram. O criativo é {criativo}, a intenção da campanha é {intencao}, o tom deve ser {tom} e o nicho do produto é {nicho}.\"\n",
        "    response = model.generate_content(prompt)\n",
        "    copy = response.text  # Acessando o texto diretamente\n",
        "    return copy"
      ]
    },
    {
      "cell_type": "code",
      "execution_count": null,
      "metadata": {
        "colab": {
          "base_uri": "https://localhost:8080/",
          "height": 332
        },
        "id": "3NmPp7k0xuCR",
        "outputId": "937090b2-18df-4310-81b2-8efb975c6849"
      },
      "outputs": [
        {
          "name": "stdout",
          "output_type": "stream",
          "text": [
            "\n",
            "**Copy Sugerida:**\n",
            "🍫 Mães, vocês merecem um doce momento! 🍫\n",
            "\n",
            "Vocês são super-heroínas que merecem um descanso e um prazer delicioso. Nosso chocolate é o seu refúgio perfeito para desfrutar de um momento só seu.\n",
            "\n",
            "Com cada mordida, você vai se sentir como uma criança novamente, mas com a sabedoria de uma mãe. Então, mães, não se privem! Deliciem-se com o nosso chocolate e aproveitem o seu merecido momento de doçura.\n",
            "\n",
            "#ChocolateParaMães #MomentosDoces #SuperMães #PrazerMaterno\n"
          ]
        }
      ],
      "source": [
        "while True:\n",
        "    criativo, intencao, tom, nicho = obter_informacoes_usuario()\n",
        "    copy = gerar_copy(criativo, intencao, tom, nicho)\n",
        "    print(f\"\\n**Copy Sugerida:**\\n{copy}\")\n",
        "\n",
        "    continuar = input(\"\\nDeseja gerar outra copy? (S/N): \")\n",
        "    if continuar.upper() != 'S':\n",
        "        break"
      ]
    }
  ],
  "metadata": {
    "colab": {
      "provenance": []
    },
    "kernelspec": {
      "display_name": "Python 3",
      "name": "python3"
    },
    "language_info": {
      "codemirror_mode": {
        "name": "ipython",
        "version": 3
      },
      "file_extension": ".py",
      "mimetype": "text/x-python",
      "name": "python",
      "nbconvert_exporter": "python",
      "pygments_lexer": "ipython3",
      "version": "3.12.3"
    }
  },
  "nbformat": 4,
  "nbformat_minor": 0
}
